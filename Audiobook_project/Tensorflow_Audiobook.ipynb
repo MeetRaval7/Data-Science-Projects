{
 "cells": [
  {
   "cell_type": "code",
   "execution_count": 1,
   "metadata": {},
   "outputs": [],
   "source": [
    "import numpy as np\n",
    "import tensorflow as tf\n",
    "from sklearn import preprocessing\n",
    "\n",
    "raw_csv_data=np.loadtxt(r'C:\\Users\\admin\\Desktop\\Audiobooks_data.csv',delimiter=',')\n",
    "\n",
    "unscaled_inputs_all=raw_csv_data[:,1:-1]\n",
    "targets_all=raw_csv_data[:,-1]"
   ]
  },
  {
   "cell_type": "code",
   "execution_count": 2,
   "metadata": {},
   "outputs": [],
   "source": [
    "num_one_inputs=int(np.sum(targets_all))\n",
    "zero_targets_counter=0\n",
    "indices_to_remove=[]\n",
    "\n",
    "for i in range(targets_all.shape[0]):\n",
    "    if targets_all[i]==0:\n",
    "        zero_targets_counter+=1\n",
    "        if zero_targets_counter>num_one_inputs:\n",
    "            indices_to_remove.append(i)\n",
    "            \n",
    "unscaled_input_equal_priors=np.delete(unscaled_inputs_all,indices_to_remove,axis=0)\n",
    "targets_equal_priors=np.delete(targets_all,indices_to_remove,axis=0)"
   ]
  },
  {
   "cell_type": "code",
   "execution_count": 3,
   "metadata": {},
   "outputs": [],
   "source": [
    "scaled_inputs=preprocessing.scale(unscaled_input_equal_priors)"
   ]
  },
  {
   "cell_type": "code",
   "execution_count": 4,
   "metadata": {},
   "outputs": [],
   "source": [
    "shuffled_indices=np.arange(scaled_inputs.shape[0])\n",
    "np.random.shuffle(shuffled_indices)\n",
    "\n",
    "shuffled_inputs=scaled_inputs[shuffled_indices]\n",
    "shuffled_targets=targets_equal_priors[shuffled_indices]"
   ]
  },
  {
   "cell_type": "code",
   "execution_count": 5,
   "metadata": {},
   "outputs": [],
   "source": [
    "samples_count=shuffled_inputs.shape[0]\n",
    "\n",
    "train_samples_count=int(0.8*samples_count)\n",
    "validation_samples_count=int(0.1*samples_count)\n",
    "test_samples_count=samples_count-train_samples_count-validation_samples_count\n",
    "\n",
    "train_inputs=shuffled_inputs[:train_samples_count]\n",
    "train_targets=shuffled_targets[:train_samples_count]\n",
    "\n",
    "validation_inputs=shuffled_inputs[train_samples_count:train_samples_count+validation_samples_count]\n",
    "validation_targets=shuffled_targets[train_samples_count:train_samples_count+validation_samples_count]\n",
    "\n",
    "test_inputs=shuffled_inputs[train_samples_count+validation_samples_count:]\n",
    "test_targets=shuffled_targets[train_samples_count+validation_samples_count:]"
   ]
  },
  {
   "cell_type": "code",
   "execution_count": 6,
   "metadata": {},
   "outputs": [],
   "source": [
    "np.savez('Audiobooks_data_train',inputs=train_inputs,targets=train_targets)\n",
    "np.savez('Audiobooks_data_validation',inputs=validation_inputs,targets=validation_targets)\n",
    "np.savez('Audiobooks_data_test',inputs=test_inputs,targets=test_targets)"
   ]
  },
  {
   "cell_type": "code",
   "execution_count": 7,
   "metadata": {},
   "outputs": [],
   "source": [
    "npz=np.load('Audiobooks_data_train.npz')\n",
    "\n",
    "train_inputs=npz['inputs'].astype(float)\n",
    "train_targets=npz['targets'].astype(int)\n",
    "\n",
    "npz1=np.load('Audiobooks_data_validation.npz')\n",
    "\n",
    "validation_inputs=npz1['inputs'].astype(float)\n",
    "validation_targets=npz1['targets'].astype(int)\n",
    "\n",
    "npz2=np.load('Audiobooks_data_test.npz')\n",
    "\n",
    "test_inputs=npz2['inputs'].astype(float)\n",
    "test_targets=npz2['targets'].astype(int)\n"
   ]
  },
  {
   "cell_type": "code",
   "execution_count": 12,
   "metadata": {},
   "outputs": [
    {
     "name": "stdout",
     "output_type": "stream",
     "text": [
      "Train on 3579 samples, validate on 447 samples\n",
      "Epoch 1/100\n",
      "3579/3579 - 1s - loss: 0.5129 - accuracy: 0.8220 - val_loss: 0.4068 - val_accuracy: 0.8770\n",
      "Epoch 2/100\n",
      "3579/3579 - 0s - loss: 0.3588 - accuracy: 0.8729 - val_loss: 0.3197 - val_accuracy: 0.8837\n",
      "Epoch 3/100\n",
      "3579/3579 - 0s - loss: 0.3114 - accuracy: 0.8840 - val_loss: 0.3036 - val_accuracy: 0.8881\n",
      "Epoch 4/100\n",
      "3579/3579 - 0s - loss: 0.2931 - accuracy: 0.8899 - val_loss: 0.2913 - val_accuracy: 0.8926\n",
      "Epoch 5/100\n",
      "3579/3579 - 0s - loss: 0.2782 - accuracy: 0.8933 - val_loss: 0.2833 - val_accuracy: 0.8971\n",
      "Epoch 6/100\n",
      "3579/3579 - 0s - loss: 0.2688 - accuracy: 0.8980 - val_loss: 0.2790 - val_accuracy: 0.8949\n",
      "Epoch 7/100\n",
      "3579/3579 - 0s - loss: 0.2615 - accuracy: 0.9016 - val_loss: 0.2738 - val_accuracy: 0.8971\n",
      "Epoch 8/100\n",
      "3579/3579 - 0s - loss: 0.2564 - accuracy: 0.9039 - val_loss: 0.2693 - val_accuracy: 0.9060\n",
      "Epoch 9/100\n",
      "3579/3579 - 0s - loss: 0.2510 - accuracy: 0.9047 - val_loss: 0.2698 - val_accuracy: 0.8993\n",
      "Epoch 10/100\n",
      "3579/3579 - 0s - loss: 0.2501 - accuracy: 0.9033 - val_loss: 0.2687 - val_accuracy: 0.9016\n",
      "Epoch 11/100\n",
      "3579/3579 - 0s - loss: 0.2455 - accuracy: 0.9067 - val_loss: 0.2745 - val_accuracy: 0.9016\n",
      "Epoch 12/100\n",
      "3579/3579 - 0s - loss: 0.2495 - accuracy: 0.9072 - val_loss: 0.2647 - val_accuracy: 0.9128\n",
      "Epoch 13/100\n",
      "3579/3579 - 0s - loss: 0.2417 - accuracy: 0.9084 - val_loss: 0.2663 - val_accuracy: 0.8993\n",
      "Epoch 14/100\n",
      "3579/3579 - 0s - loss: 0.2411 - accuracy: 0.9086 - val_loss: 0.2600 - val_accuracy: 0.9083\n",
      "Epoch 15/100\n",
      "3579/3579 - 0s - loss: 0.2383 - accuracy: 0.9095 - val_loss: 0.2581 - val_accuracy: 0.9060\n",
      "Epoch 16/100\n",
      "3579/3579 - 0s - loss: 0.2352 - accuracy: 0.9123 - val_loss: 0.2634 - val_accuracy: 0.9083\n",
      "Epoch 17/100\n",
      "3579/3579 - 0s - loss: 0.2350 - accuracy: 0.9117 - val_loss: 0.2740 - val_accuracy: 0.9016\n"
     ]
    },
    {
     "data": {
      "text/plain": [
       "<tensorflow.python.keras.callbacks.History at 0x11c97303788>"
      ]
     },
     "execution_count": 12,
     "metadata": {},
     "output_type": "execute_result"
    }
   ],
   "source": [
    "input_size=10\n",
    "output_size=2\n",
    "hidden_layer_size=50\n",
    "\n",
    "model=tf.keras.Sequential([\n",
    "    tf.keras.layers.Flatten(),\n",
    "    tf.keras.layers.Dense(hidden_layer_size,activation='relu'),\n",
    "    tf.keras.layers.Dense(hidden_layer_size,activation='relu'),\n",
    "    tf.keras.layers.Dense(output_size,activation='softmax'),\n",
    "])\n",
    "\n",
    "model.compile(optimizer='adam',loss='sparse_categorical_crossentropy',metrics=['accuracy'])\n",
    "\n",
    "max_epochs=100\n",
    "\n",
    "early_stopping=tf.keras.callbacks.EarlyStopping(patience=2)\n",
    "\n",
    "model.fit(train_inputs,\n",
    "         train_targets,\n",
    "         batch_size=100,\n",
    "         epochs=max_epochs,\n",
    "         callbacks=[early_stopping],\n",
    "         validation_data=(validation_inputs,validation_targets),\n",
    "         verbose=2)"
   ]
  },
  {
   "cell_type": "code",
   "execution_count": 13,
   "metadata": {},
   "outputs": [
    {
     "name": "stdout",
     "output_type": "stream",
     "text": [
      "448/448 [==============================] - 0s 350us/sample - loss: 0.2579 - accuracy: 0.9129\n"
     ]
    }
   ],
   "source": [
    "test_loss,test_accuracy=model.evaluate(test_inputs,test_targets)"
   ]
  },
  {
   "cell_type": "code",
   "execution_count": null,
   "metadata": {},
   "outputs": [],
   "source": []
  }
 ],
 "metadata": {
  "kernelspec": {
   "display_name": "Python 3",
   "language": "python",
   "name": "python3"
  },
  "language_info": {
   "codemirror_mode": {
    "name": "ipython",
    "version": 3
   },
   "file_extension": ".py",
   "mimetype": "text/x-python",
   "name": "python",
   "nbconvert_exporter": "python",
   "pygments_lexer": "ipython3",
   "version": "3.7.7"
  }
 },
 "nbformat": 4,
 "nbformat_minor": 4
}
