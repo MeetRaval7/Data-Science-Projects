{
 "cells": [
  {
   "cell_type": "code",
   "execution_count": 9,
   "metadata": {},
   "outputs": [],
   "source": [
    "import numpy as np\n",
    "import matplotlib.pyplot as plt\n",
    "from mpl_toolkits.mplot3d import Axes3D"
   ]
  },
  {
   "cell_type": "code",
   "execution_count": 10,
   "metadata": {},
   "outputs": [
    {
     "name": "stdout",
     "output_type": "stream",
     "text": [
      "(1000, 2)\n"
     ]
    }
   ],
   "source": [
    "# First, we should declare a variable containing the size of the training set we want to generate.\n",
    "observations = 1000\n",
    "\n",
    "# We will work with two variables as inputs. You can think about them as x1 and x2 in our previous examples.\n",
    "# We have picked x and z, since it is easier to differentiate them.\n",
    "# We generate them randomly, drawing from an uniform distribution. There are 3 arguments of this method (low, high, size).\n",
    "# The size of xs and zs is observations by 1. In this case: 1000 x 1.\n",
    "xs = np.random.uniform(low=-10, high=10, size=(observations,1))\n",
    "zs = np.random.uniform(-10, 10, (observations,1))\n",
    "\n",
    "# Combine the two dimensions of the input into one input matrix. \n",
    "# This is the X matrix from the linear model y = x*w + b.\n",
    "# column_stack is a Numpy method, which combines two vectors into a matrix. Alternatives are stack, dstack, hstack, etc.\n",
    "inputs = np.column_stack((xs,zs))\n",
    "\n",
    "# Check if the dimensions of the inputs are the same as the ones we defined in the linear model lectures. \n",
    "# They should be n x k, where n is the number of observations, and k is the number of variables, so 1000 x 2.\n",
    "print (inputs.shape)"
   ]
  },
  {
   "cell_type": "code",
   "execution_count": 11,
   "metadata": {},
   "outputs": [
    {
     "name": "stdout",
     "output_type": "stream",
     "text": [
      "(1000, 1)\n"
     ]
    }
   ],
   "source": [
    "# We want to \"make up\" a function, use the ML methodology, and see if the algorithm has learned it.\n",
    "# We add a small random noise to the function i.e. f(x,z) = 2x - 3z + 5 + <small noise>\n",
    "noise = np.random.uniform(-1, 1, (observations,1))\n",
    "\n",
    "# Produce the targets according to the f(x,z) = 2x - 3z + 5 + noise definition.\n",
    "# In this way, we are basically saying: the weights should be 2 and -3, while the bias is 5.\n",
    "targets = 2*xs - 3*zs + 5 + noise\n",
    "\n",
    "# Check the shape of the targets just in case. It should be n x m, where m is the number of output variables, so 1000 x 1.\n",
    "print (targets.shape)"
   ]
  },
  {
   "cell_type": "code",
   "execution_count": 12,
   "metadata": {},
   "outputs": [
    {
     "name": "stdout",
     "output_type": "stream",
     "text": [
      "[[-0.01238688]\n",
      " [ 0.02376936]]\n",
      "[0.06110268]\n"
     ]
    }
   ],
   "source": [
    "init_range=0.1\n",
    "weights=np.random.uniform(-init_range,init_range,size=(2,1))\n",
    "bias=np.random.uniform(-init_range,init_range,size=1)\n",
    "print(weights)\n",
    "print(bias)"
   ]
  },
  {
   "cell_type": "code",
   "execution_count": 13,
   "metadata": {},
   "outputs": [],
   "source": [
    "learning_rate=0.02"
   ]
  },
  {
   "cell_type": "code",
   "execution_count": 14,
   "metadata": {},
   "outputs": [
    {
     "name": "stdout",
     "output_type": "stream",
     "text": [
      "229.96611378894275\n",
      "37.68004713217917\n",
      "14.54640172199778\n",
      "11.405808113304072\n",
      "10.654334254580695\n",
      "10.202468406315239\n",
      "9.8007304920975\n",
      "9.418757747113599\n",
      "9.052372245295624\n",
      "8.700550033734595\n",
      "8.362665677780802\n",
      "8.038161425428704\n",
      "7.7265067586186404\n",
      "7.427192784257353\n",
      "7.139730834216465\n",
      "6.863651599208798\n",
      "6.598504354393778\n",
      "6.343856222542546\n",
      "6.099291467207839\n",
      "5.864410813981893\n",
      "5.638830798642591\n",
      "5.422183141112753\n",
      "5.214114144209065\n",
      "5.014284116198978\n",
      "4.822366816222786\n",
      "4.6380489216754555\n",
      "4.461029516678751\n",
      "4.29101960080842\n",
      "4.127741617274497\n",
      "3.9709289997843618\n",
      "3.8203257373488126\n",
      "3.6756859563206152\n",
      "3.5367735189832272\n",
      "3.4033616380342906\n",
      "3.2752325063345578\n",
      "3.152176941317742\n",
      "3.0339940434807833\n",
      "2.9204908683969726\n",
      "2.811482111716465\n",
      "2.7067898066399274\n",
      "2.6062430333714\n",
      "2.5096776400760525\n",
      "2.4169359748872394\n",
      "2.327866628525365\n",
      "2.2423241871083377\n",
      "2.160168994750065\n",
      "2.0812669255593987\n",
      "2.005489164667309\n",
      "1.9327119979247926\n",
      "1.8628166099281707\n",
      "1.795688890042031\n",
      "1.7312192461031513\n",
      "1.669302425501237\n",
      "1.6098373433443616\n",
      "1.5527269174286245\n",
      "1.4978779097425237\n",
      "1.4452007742473565\n",
      "1.3946095106850935\n",
      "1.3460215241750626\n",
      "1.299357490370219\n",
      "1.2545412259528848\n",
      "1.2114995642584776\n",
      "1.1701622358242205\n",
      "1.1304617536677988\n",
      "1.0923333031086613\n",
      "1.0557146359521101\n",
      "1.0205459688634113\n",
      "0.9867698857660087\n",
      "0.9543312441045173\n",
      "0.9231770848194337\n",
      "0.8932565458866168\n",
      "0.8645207792803642\n",
      "0.8369228712245254\n",
      "0.810417765601457\n",
      "0.7849621903937793\n",
      "0.7605145870388325\n",
      "0.7370350425805107\n",
      "0.7144852245076995\n",
      "0.6928283181729327\n",
      "0.6720289666891008\n",
      "0.6520532132060873\n",
      "0.6328684454731011\n",
      "0.6144433425961723\n",
      "0.5967478239039294\n",
      "0.5797529998381394\n",
      "0.5634311247888475\n",
      "0.5477555517971304\n",
      "0.5327006890514867\n",
      "0.5182419581068546\n",
      "0.504355753758046\n",
      "0.49101940550208506\n",
      "0.47821114052652686\n",
      "0.46591004816334713\n",
      "0.45409604575035656\n",
      "0.4427498458444101\n",
      "0.4318529247328856\n",
      "0.4213874921920279\n",
      "0.4113364624427694\n",
      "0.4016834262566327\n",
      "0.39241262416615663\n"
     ]
    }
   ],
   "source": [
    "for i in range(100):\n",
    "    outputs=np.dot(inputs,weights)+bias\n",
    "    deltas=outputs-targets\n",
    "    loss=np.sum(deltas**2)/2/observations\n",
    "    print(loss)\n",
    "    delta_scaled=deltas/observations\n",
    "    weights=weights-learning_rate*np.dot(inputs.T,delta_scaled)\n",
    "    bias=bias-learning_rate*np.sum(delta_scaled)"
   ]
  },
  {
   "cell_type": "code",
   "execution_count": 15,
   "metadata": {},
   "outputs": [
    {
     "name": "stdout",
     "output_type": "stream",
     "text": [
      "[[ 2.00141892]\n",
      " [-3.00282554]] [4.3641321]\n"
     ]
    }
   ],
   "source": [
    "print(weights,bias)"
   ]
  },
  {
   "cell_type": "code",
   "execution_count": 16,
   "metadata": {},
   "outputs": [
    {
     "data": {
      "text/plain": [
       "[<matplotlib.lines.Line2D at 0x2659ef34e88>]"
      ]
     },
     "execution_count": 16,
     "metadata": {},
     "output_type": "execute_result"
    },
    {
     "data": {
      "image/png": "[encoded data removed]",
      "text/plain": [
       "<Figure size 432x288 with 1 Axes>"
      ]
     },
     "metadata": {
      "needs_background": "light"
     },
     "output_type": "display_data"
    }
   ],
   "source": [
    "plt.plot(outputs,targets)"
   ]
  },
  {
   "cell_type": "code",
   "execution_count": null,
   "metadata": {},
   "outputs": [],
   "source": []
  }
 ],
 "metadata": {
  "kernelspec": {
   "display_name": "Python 3",
   "language": "python",
   "name": "python3"
  },
  "language_info": {
   "codemirror_mode": {
    "name": "ipython",
    "version": 3
   },
   "file_extension": ".py",
   "mimetype": "text/x-python",
   "name": "python",
   "nbconvert_exporter": "python",
   "pygments_lexer": "ipython3",
   "version": "3.7.7"
  }
 },
 "nbformat": 4,
 "nbformat_minor": 4
}
