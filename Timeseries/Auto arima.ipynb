{
 "cells": [
  {
   "cell_type": "code",
   "execution_count": 4,
   "metadata": {},
   "outputs": [],
   "source": [
    "import numpy as np\n",
    "import pandas as pd\n",
    "import scipy\n",
    "import statsmodels.api as sm\n",
    "import matplotlib.pyplot as plt\n",
    "import seaborn as sns\n",
    "import sklearn\n",
    "from statsmodels.tsa.arima_model import ARIMA\n",
    "from arch import arch_model\n",
    "import seaborn as sns\n",
    "import yfinance\n",
    "import warnings\n",
    "warnings.filterwarnings(\"ignore\")\n",
    "sns.set()"
   ]
  },
  {
   "cell_type": "code",
   "execution_count": 5,
   "metadata": {},
   "outputs": [
    {
     "name": "stdout",
     "output_type": "stream",
     "text": [
      "[*********************100%***********************]  4 of 4 completed\n"
     ]
    }
   ],
   "source": [
    "raw_data = yfinance.download (tickers = \"^GSPC ^FTSE ^N225 ^GDAXI\", start = \"1994-01-07\", end = \"2018-01-29\", \n",
    "                              interval = \"1d\", group_by = 'ticker', auto_adjust = True, treads = True)"
   ]
  },
  {
   "cell_type": "code",
   "execution_count": 6,
   "metadata": {},
   "outputs": [],
   "source": [
    "df_comp = raw_data.copy()"
   ]
  },
  {
   "cell_type": "code",
   "execution_count": 7,
   "metadata": {},
   "outputs": [],
   "source": [
    "df_comp['spx'] = df_comp['^GSPC'].Close[:]\n",
    "df_comp['dax'] = df_comp['^GDAXI'].Close[:]\n",
    "df_comp['ftse'] = df_comp['^FTSE'].Close[:]\n",
    "df_comp['nikkei'] = df_comp['^N225'].Close[:]"
   ]
  },
  {
   "cell_type": "code",
   "execution_count": 8,
   "metadata": {},
   "outputs": [],
   "source": [
    "df_comp = df_comp.iloc[1:]\n",
    "del df_comp['^N225']\n",
    "del df_comp['^GSPC']\n",
    "del df_comp['^GDAXI']\n",
    "del df_comp['^FTSE']\n",
    "df_comp=df_comp.asfreq('b')\n",
    "df_comp=df_comp.fillna(method='ffill')"
   ]
  },
  {
   "cell_type": "markdown",
   "metadata": {},
   "source": [
    "# Creating Returns"
   ]
  },
  {
   "cell_type": "code",
   "execution_count": 9,
   "metadata": {},
   "outputs": [],
   "source": [
    "df_comp['ret_spx'] = df_comp.spx.pct_change(1)*100\n",
    "df_comp['ret_ftse'] = df_comp.ftse.pct_change(1)*100\n",
    "df_comp['ret_dax'] = df_comp.dax.pct_change(1)*100\n",
    "df_comp['ret_nikkei'] = df_comp.nikkei.pct_change(1)*100"
   ]
  },
  {
   "cell_type": "markdown",
   "metadata": {},
   "source": [
    "# Splitting the Data"
   ]
  },
  {
   "cell_type": "code",
   "execution_count": 10,
   "metadata": {},
   "outputs": [],
   "source": [
    "size = int(len(df_comp)*0.8)\n",
    "df, df_test = df_comp.iloc[:size], df_comp.iloc[size:]"
   ]
  },
  {
   "cell_type": "markdown",
   "metadata": {},
   "source": [
    "# Fitting a Model"
   ]
  },
  {
   "cell_type": "code",
   "execution_count": 12,
   "metadata": {},
   "outputs": [],
   "source": [
    "from pmdarima.arima import auto_arima"
   ]
  },
  {
   "cell_type": "code",
   "execution_count": 13,
   "metadata": {},
   "outputs": [],
   "source": [
    "model_auto = auto_arima(df.ret_ftse[1:])"
   ]
  },
  {
   "cell_type": "code",
   "execution_count": 14,
   "metadata": {},
   "outputs": [
    {
     "data": {
      "text/plain": [
       "ARIMA(maxiter=50, method='lbfgs', order=(3, 0, 5), out_of_sample_size=0,\n",
       "      scoring='mse', scoring_args={}, seasonal_order=(0, 0, 0, 0),\n",
       "      start_params=None, suppress_warnings=True, trend=None,\n",
       "      with_intercept=False)"
      ]
     },
     "execution_count": 14,
     "metadata": {},
     "output_type": "execute_result"
    }
   ],
   "source": [
    "model_auto"
   ]
  },
  {
   "cell_type": "code",
   "execution_count": 15,
   "metadata": {},
   "outputs": [
    {
     "data": {
      "text/html": [
       "<table class=\"simpletable\">\n",
       "<caption>SARIMAX Results</caption>\n",
       "<tr>\n",
       "  <th>Dep. Variable:</th>           <td>y</td>        <th>  No. Observations:  </th>   <td>5019</td>   \n",
       "</tr>\n",
       "<tr>\n",
       "  <th>Model:</th>           <td>SARIMAX(3, 0, 5)</td> <th>  Log Likelihood     </th> <td>-7883.727</td>\n",
       "</tr>\n",
       "<tr>\n",
       "  <th>Date:</th>            <td>Wed, 31 Mar 2021</td> <th>  AIC                </th> <td>15785.453</td>\n",
       "</tr>\n",
       "<tr>\n",
       "  <th>Time:</th>                <td>11:32:54</td>     <th>  BIC                </th> <td>15844.142</td>\n",
       "</tr>\n",
       "<tr>\n",
       "  <th>Sample:</th>                  <td>0</td>        <th>  HQIC               </th> <td>15806.019</td>\n",
       "</tr>\n",
       "<tr>\n",
       "  <th></th>                      <td> - 5019</td>     <th>                     </th>     <td> </td>    \n",
       "</tr>\n",
       "<tr>\n",
       "  <th>Covariance Type:</th>        <td>opg</td>       <th>                     </th>     <td> </td>    \n",
       "</tr>\n",
       "</table>\n",
       "<table class=\"simpletable\">\n",
       "<tr>\n",
       "     <td></td>       <th>coef</th>     <th>std err</th>      <th>z</th>      <th>P>|z|</th>  <th>[0.025</th>    <th>0.975]</th>  \n",
       "</tr>\n",
       "<tr>\n",
       "  <th>ar.L1</th>  <td>   -0.1273</td> <td>    0.078</td> <td>   -1.626</td> <td> 0.104</td> <td>   -0.281</td> <td>    0.026</td>\n",
       "</tr>\n",
       "<tr>\n",
       "  <th>ar.L2</th>  <td>   -0.8760</td> <td>    0.020</td> <td>  -44.843</td> <td> 0.000</td> <td>   -0.914</td> <td>   -0.838</td>\n",
       "</tr>\n",
       "<tr>\n",
       "  <th>ar.L3</th>  <td>   -0.2776</td> <td>    0.072</td> <td>   -3.879</td> <td> 0.000</td> <td>   -0.418</td> <td>   -0.137</td>\n",
       "</tr>\n",
       "<tr>\n",
       "  <th>ma.L1</th>  <td>    0.1026</td> <td>    0.078</td> <td>    1.311</td> <td> 0.190</td> <td>   -0.051</td> <td>    0.256</td>\n",
       "</tr>\n",
       "<tr>\n",
       "  <th>ma.L2</th>  <td>    0.8224</td> <td>    0.023</td> <td>   36.515</td> <td> 0.000</td> <td>    0.778</td> <td>    0.867</td>\n",
       "</tr>\n",
       "<tr>\n",
       "  <th>ma.L3</th>  <td>    0.1648</td> <td>    0.070</td> <td>    2.362</td> <td> 0.018</td> <td>    0.028</td> <td>    0.302</td>\n",
       "</tr>\n",
       "<tr>\n",
       "  <th>ma.L4</th>  <td>   -0.0085</td> <td>    0.009</td> <td>   -0.917</td> <td> 0.359</td> <td>   -0.027</td> <td>    0.010</td>\n",
       "</tr>\n",
       "<tr>\n",
       "  <th>ma.L5</th>  <td>   -0.1114</td> <td>    0.008</td> <td>  -13.438</td> <td> 0.000</td> <td>   -0.128</td> <td>   -0.095</td>\n",
       "</tr>\n",
       "<tr>\n",
       "  <th>sigma2</th> <td>    1.3547</td> <td>    0.015</td> <td>   91.101</td> <td> 0.000</td> <td>    1.326</td> <td>    1.384</td>\n",
       "</tr>\n",
       "</table>\n",
       "<table class=\"simpletable\">\n",
       "<tr>\n",
       "  <th>Ljung-Box (Q):</th>          <td>70.94</td> <th>  Jarque-Bera (JB):  </th> <td>6244.36</td>\n",
       "</tr>\n",
       "<tr>\n",
       "  <th>Prob(Q):</th>                <td>0.00</td>  <th>  Prob(JB):          </th>  <td>0.00</td>  \n",
       "</tr>\n",
       "<tr>\n",
       "  <th>Heteroskedasticity (H):</th> <td>1.99</td>  <th>  Skew:              </th>  <td>-0.17</td> \n",
       "</tr>\n",
       "<tr>\n",
       "  <th>Prob(H) (two-sided):</th>    <td>0.00</td>  <th>  Kurtosis:          </th>  <td>8.45</td>  \n",
       "</tr>\n",
       "</table><br/><br/>Warnings:<br/>[1] Covariance matrix calculated using the outer product of gradients (complex-step)."
      ],
      "text/plain": [
       "<class 'statsmodels.iolib.summary.Summary'>\n",
       "\"\"\"\n",
       "                               SARIMAX Results                                \n",
       "==============================================================================\n",
       "Dep. Variable:                      y   No. Observations:                 5019\n",
       "Model:               SARIMAX(3, 0, 5)   Log Likelihood               -7883.727\n",
       "Date:                Wed, 31 Mar 2021   AIC                          15785.453\n",
       "Time:                        11:32:54   BIC                          15844.142\n",
       "Sample:                             0   HQIC                         15806.019\n",
       "                               - 5019                                         \n",
       "Covariance Type:                  opg                                         \n",
       "==============================================================================\n",
       "                 coef    std err          z      P>|z|      [0.025      0.975]\n",
       "------------------------------------------------------------------------------\n",
       "ar.L1         -0.1273      0.078     -1.626      0.104      -0.281       0.026\n",
       "ar.L2         -0.8760      0.020    -44.843      0.000      -0.914      -0.838\n",
       "ar.L3         -0.2776      0.072     -3.879      0.000      -0.418      -0.137\n",
       "ma.L1          0.1026      0.078      1.311      0.190      -0.051       0.256\n",
       "ma.L2          0.8224      0.023     36.515      0.000       0.778       0.867\n",
       "ma.L3          0.1648      0.070      2.362      0.018       0.028       0.302\n",
       "ma.L4         -0.0085      0.009     -0.917      0.359      -0.027       0.010\n",
       "ma.L5         -0.1114      0.008    -13.438      0.000      -0.128      -0.095\n",
       "sigma2         1.3547      0.015     91.101      0.000       1.326       1.384\n",
       "===================================================================================\n",
       "Ljung-Box (Q):                       70.94   Jarque-Bera (JB):              6244.36\n",
       "Prob(Q):                              0.00   Prob(JB):                         0.00\n",
       "Heteroskedasticity (H):               1.99   Skew:                            -0.17\n",
       "Prob(H) (two-sided):                  0.00   Kurtosis:                         8.45\n",
       "===================================================================================\n",
       "\n",
       "Warnings:\n",
       "[1] Covariance matrix calculated using the outer product of gradients (complex-step).\n",
       "\"\"\""
      ]
     },
     "execution_count": 15,
     "metadata": {},
     "output_type": "execute_result"
    }
   ],
   "source": [
    "model_auto.summary()"
   ]
  },
  {
   "cell_type": "markdown",
   "metadata": {},
   "source": [
    "# Important Arguments"
   ]
  },
  {
   "cell_type": "code",
   "execution_count": 16,
   "metadata": {},
   "outputs": [],
   "source": [
    "model_auto = auto_arima(df_comp.ret_ftse[1:], exogenous = df_comp[['ret_spx', 'ret_dax', 'ret_nikkei']][1:], m = 5,\n",
    "                       max_order = None, max_p = 7, max_q = 7, max_d = 2, max_P = 4, max_Q = 4, max_D = 2,\n",
    "                       maxiter = 50, alpha = 0.05, n_jobs = -1, trend = 'ct', information_criterion = 'oob',\n",
    "                       out_of_sample = int(len(df_comp)*0.2))\n",
    "\n",
    "\n",
    "# !!! Important Note: In pdmarima v1.5.2, out_of_sample_size is replaced with out_of_sample, so make sure to use the latter!\n",
    "\n",
    "\n",
    "# exogenous -> outside factors (e.g other time series)\n",
    "# m -> seasonal cycle length\n",
    "# max_order -> maximum amount of variables to be used in the regression (p + q)\n",
    "# max_p -> maximum AR components\n",
    "# max_q -> maximum MA components\n",
    "# max_d -> maximum Integrations\n",
    "# maxiter -> maximum iterations we're giving the model to converge the coefficients (becomes harder as the order increases)\n",
    "# alpha -> level of significance, default is 5%, which we should be using most of the time\n",
    "# n_jobs -> how many models to fit at a time (-1 indicates \"as many as possible\")\n",
    "# trend -> \"ct\" usually\n",
    "# information_criterion -> 'aic', 'aicc', 'bic', 'hqic', 'oob' \n",
    "#        (Akaike Information Criterion, Corrected Akaike Information Criterion,\n",
    "#        Bayesian Information Criterion, Hannan-Quinn Information Criterion, or\n",
    "#        \"out of bag\"--for validation scoring--respectively)\n",
    "# out_of_smaple -> validates the model selection (pass the entire dataset, and set 20% to be the out_of_sample_size)"
   ]
  },
  {
   "cell_type": "code",
   "execution_count": 17,
   "metadata": {},
   "outputs": [
    {
     "data": {
      "text/html": [
       "<table class=\"simpletable\">\n",
       "<caption>SARIMAX Results</caption>\n",
       "<tr>\n",
       "  <th>Dep. Variable:</th>                       <td>y</td>                    <th>  No. Observations:  </th>   <td>6275</td>   \n",
       "</tr>\n",
       "<tr>\n",
       "  <th>Model:</th>           <td>SARIMAX(0, 0, 1)x(0, 0, [1, 2, 3, 4], 5)</td> <th>  Log Likelihood     </th> <td>-6333.669</td>\n",
       "</tr>\n",
       "<tr>\n",
       "  <th>Date:</th>                        <td>Wed, 31 Mar 2021</td>             <th>  AIC                </th> <td>12689.339</td>\n",
       "</tr>\n",
       "<tr>\n",
       "  <th>Time:</th>                            <td>11:56:07</td>                 <th>  BIC                </th> <td>12763.526</td>\n",
       "</tr>\n",
       "<tr>\n",
       "  <th>Sample:</th>                         <td>01-10-1994</td>                <th>  HQIC               </th> <td>12715.044</td>\n",
       "</tr>\n",
       "<tr>\n",
       "  <th></th>                               <td>- 01-26-2018</td>               <th>                     </th>     <td> </td>    \n",
       "</tr>\n",
       "<tr>\n",
       "  <th>Covariance Type:</th>                    <td>opg</td>                   <th>                     </th>     <td> </td>    \n",
       "</tr>\n",
       "</table>\n",
       "<table class=\"simpletable\">\n",
       "<tr>\n",
       "       <td></td>         <th>coef</th>     <th>std err</th>      <th>z</th>      <th>P>|z|</th>  <th>[0.025</th>    <th>0.975]</th>  \n",
       "</tr>\n",
       "<tr>\n",
       "  <th>intercept</th>  <td>   -0.0022</td> <td>    0.014</td> <td>   -0.160</td> <td> 0.873</td> <td>   -0.029</td> <td>    0.024</td>\n",
       "</tr>\n",
       "<tr>\n",
       "  <th>drift</th>      <td>-1.758e-06</td> <td> 4.19e-06</td> <td>   -0.420</td> <td> 0.675</td> <td>-9.96e-06</td> <td> 6.45e-06</td>\n",
       "</tr>\n",
       "<tr>\n",
       "  <th>ret_spx</th>    <td>    0.0958</td> <td>    0.006</td> <td>   17.043</td> <td> 0.000</td> <td>    0.085</td> <td>    0.107</td>\n",
       "</tr>\n",
       "<tr>\n",
       "  <th>ret_dax</th>    <td>    0.5582</td> <td>    0.005</td> <td>  114.044</td> <td> 0.000</td> <td>    0.549</td> <td>    0.568</td>\n",
       "</tr>\n",
       "<tr>\n",
       "  <th>ret_nikkei</th> <td>    0.0702</td> <td>    0.004</td> <td>   16.696</td> <td> 0.000</td> <td>    0.062</td> <td>    0.078</td>\n",
       "</tr>\n",
       "<tr>\n",
       "  <th>ma.L1</th>      <td>   -0.1062</td> <td>    0.007</td> <td>  -14.614</td> <td> 0.000</td> <td>   -0.120</td> <td>   -0.092</td>\n",
       "</tr>\n",
       "<tr>\n",
       "  <th>ma.S.L5</th>    <td>   -0.0283</td> <td>    0.008</td> <td>   -3.361</td> <td> 0.001</td> <td>   -0.045</td> <td>   -0.012</td>\n",
       "</tr>\n",
       "<tr>\n",
       "  <th>ma.S.L10</th>   <td>   -0.0497</td> <td>    0.009</td> <td>   -5.440</td> <td> 0.000</td> <td>   -0.068</td> <td>   -0.032</td>\n",
       "</tr>\n",
       "<tr>\n",
       "  <th>ma.S.L15</th>   <td>   -0.0237</td> <td>    0.009</td> <td>   -2.720</td> <td> 0.007</td> <td>   -0.041</td> <td>   -0.007</td>\n",
       "</tr>\n",
       "<tr>\n",
       "  <th>ma.S.L20</th>   <td>   -0.0242</td> <td>    0.009</td> <td>   -2.723</td> <td> 0.006</td> <td>   -0.042</td> <td>   -0.007</td>\n",
       "</tr>\n",
       "<tr>\n",
       "  <th>sigma2</th>     <td>    0.4425</td> <td>    0.004</td> <td>  101.247</td> <td> 0.000</td> <td>    0.434</td> <td>    0.451</td>\n",
       "</tr>\n",
       "</table>\n",
       "<table class=\"simpletable\">\n",
       "<tr>\n",
       "  <th>Ljung-Box (Q):</th>          <td>75.68</td> <th>  Jarque-Bera (JB):  </th> <td>14882.64</td>\n",
       "</tr>\n",
       "<tr>\n",
       "  <th>Prob(Q):</th>                <td>0.00</td>  <th>  Prob(JB):          </th>   <td>0.00</td>  \n",
       "</tr>\n",
       "<tr>\n",
       "  <th>Heteroskedasticity (H):</th> <td>0.54</td>  <th>  Skew:              </th>   <td>0.24</td>  \n",
       "</tr>\n",
       "<tr>\n",
       "  <th>Prob(H) (two-sided):</th>    <td>0.00</td>  <th>  Kurtosis:          </th>   <td>10.53</td> \n",
       "</tr>\n",
       "</table><br/><br/>Warnings:<br/>[1] Covariance matrix calculated using the outer product of gradients (complex-step)."
      ],
      "text/plain": [
       "<class 'statsmodels.iolib.summary.Summary'>\n",
       "\"\"\"\n",
       "                                          SARIMAX Results                                           \n",
       "====================================================================================================\n",
       "Dep. Variable:                                            y   No. Observations:                 6275\n",
       "Model:             SARIMAX(0, 0, 1)x(0, 0, [1, 2, 3, 4], 5)   Log Likelihood               -6333.669\n",
       "Date:                                      Wed, 31 Mar 2021   AIC                          12689.339\n",
       "Time:                                              11:56:07   BIC                          12763.526\n",
       "Sample:                                          01-10-1994   HQIC                         12715.044\n",
       "                                               - 01-26-2018                                         \n",
       "Covariance Type:                                        opg                                         \n",
       "==============================================================================\n",
       "                 coef    std err          z      P>|z|      [0.025      0.975]\n",
       "------------------------------------------------------------------------------\n",
       "intercept     -0.0022      0.014     -0.160      0.873      -0.029       0.024\n",
       "drift      -1.758e-06   4.19e-06     -0.420      0.675   -9.96e-06    6.45e-06\n",
       "ret_spx        0.0958      0.006     17.043      0.000       0.085       0.107\n",
       "ret_dax        0.5582      0.005    114.044      0.000       0.549       0.568\n",
       "ret_nikkei     0.0702      0.004     16.696      0.000       0.062       0.078\n",
       "ma.L1         -0.1062      0.007    -14.614      0.000      -0.120      -0.092\n",
       "ma.S.L5       -0.0283      0.008     -3.361      0.001      -0.045      -0.012\n",
       "ma.S.L10      -0.0497      0.009     -5.440      0.000      -0.068      -0.032\n",
       "ma.S.L15      -0.0237      0.009     -2.720      0.007      -0.041      -0.007\n",
       "ma.S.L20      -0.0242      0.009     -2.723      0.006      -0.042      -0.007\n",
       "sigma2         0.4425      0.004    101.247      0.000       0.434       0.451\n",
       "===================================================================================\n",
       "Ljung-Box (Q):                       75.68   Jarque-Bera (JB):             14882.64\n",
       "Prob(Q):                              0.00   Prob(JB):                         0.00\n",
       "Heteroskedasticity (H):               0.54   Skew:                             0.24\n",
       "Prob(H) (two-sided):                  0.00   Kurtosis:                        10.53\n",
       "===================================================================================\n",
       "\n",
       "Warnings:\n",
       "[1] Covariance matrix calculated using the outer product of gradients (complex-step).\n",
       "\"\"\""
      ]
     },
     "execution_count": 17,
     "metadata": {},
     "output_type": "execute_result"
    }
   ],
   "source": [
    "model_auto.summary()"
   ]
  },
  {
   "cell_type": "code",
   "execution_count": null,
   "metadata": {},
   "outputs": [],
   "source": []
  }
 ],
 "metadata": {
  "kernelspec": {
   "display_name": "Python 3",
   "language": "python",
   "name": "python3"
  },
  "language_info": {
   "codemirror_mode": {
    "name": "ipython",
    "version": 3
   },
   "file_extension": ".py",
   "mimetype": "text/x-python",
   "name": "python",
   "nbconvert_exporter": "python",
   "pygments_lexer": "ipython3",
   "version": "3.8.3"
  }
 },
 "nbformat": 4,
 "nbformat_minor": 4
}
